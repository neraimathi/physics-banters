{
 "cells": [
  {
   "cell_type": "code",
   "execution_count": 185,
   "metadata": {},
   "outputs": [],
   "source": [
    "import numpy as np\n",
    "from scipy.special import ellipk, ellipe\n",
    "import matplotlib.pyplot as plt"
   ]
  },
  {
   "cell_type": "code",
   "execution_count": 186,
   "metadata": {},
   "outputs": [],
   "source": [
    "def magnetic_field_inside_solenoid(x, y, z, N, d, R, I):\n",
    "    # Permeability of free space (constant)\n",
    "    mu_0 = 4 * np.pi * 1e-7\n",
    "    \n",
    "    # Initialize the total magnetic field components\n",
    "    Bx = 0.0\n",
    "    By = 0.0\n",
    "    Bz = 0.0\n",
    "    \n",
    "    # Loop through the current loops in the solenoid\n",
    "    for n in range(N):\n",
    "        # Calculate the position of the current loop\n",
    "        theta = 2 * np.pi * n / N\n",
    "        x_loop = R * np.cos(theta)\n",
    "        y_loop = R * np.sin(theta)\n",
    "        \n",
    "        # Calculate the position vector from the current loop to the point (x, y, z)\n",
    "        rx = x - x_loop\n",
    "        ry = y - y_loop\n",
    "        rz = z\n",
    "        \n",
    "        # Calculate the magnitude of the position vector\n",
    "        r = np.sqrt(rx**2 + ry**2 + rz**2)+1e-20\n",
    "        \n",
    "        # Avoid division by zero\n",
    "        if r < 1e-24:\n",
    "            continue\n",
    "        \n",
    "        # Calculate the elliptic integrals\n",
    "        k = 4 * R * np.sqrt(rx**2 + ry**2) / ((R + d)**2 + rz**2)\n",
    "        K = ellipk(k)\n",
    "        E = ellipe(k)\n",
    "        \n",
    "        # Calculate the magnetic field components from the current loop\n",
    "        Bx_loop = (mu_0 * I / (4 * np.pi)) * (rz / r) * (K + (R**2 - (d**2 + rz**2)) * E / ((R - d)**2 + rz**2))\n",
    "        By_loop = 0  # Magnetic field in the y-direction is zero for a solenoid\n",
    "        Bz_loop = (mu_0 * I / (4 * np.pi)) * (1 - (R**2 - (d**2 + rz**2)) * E / ((R - d)**2 + rz**2))\n",
    "        \n",
    "        # Add the contributions from the current loop to the total magnetic field\n",
    "        Bx += Bx_loop\n",
    "        By += By_loop\n",
    "        Bz += Bz_loop\n",
    "    \n",
    "    return Bx*10**4, By*10**4, Bz*10**4"
   ]
  },
  {
   "cell_type": "code",
   "execution_count": 193,
   "metadata": {},
   "outputs": [],
   "source": [
    "# Input parameters\n",
    "N = 50  # Number of turns\n",
    "d = 0.0025  # Gap between turns (in meters)\n",
    "R = 0.06  # Radius of the solenoid (in meters)\n",
    "I = 1.0  # Current through the solenoid (in Amperes)\n",
    "x = 0.0  # x-coordinate of the point of interest (inside the solenoid)\n",
    "y = 0.0  # y-coordinate of the point of interest (inside the solenoid)\n",
    "z = 0.005  # z-coordinate of the point of interest (inside the solenoid)\n"
   ]
  },
  {
   "cell_type": "code",
   "execution_count": 188,
   "metadata": {},
   "outputs": [
    {
     "name": "stdout",
     "output_type": "stream",
     "text": [
      "Magnetic field inside the solenoid (x-direction): nan Tesla\n",
      "Magnetic field inside the solenoid (y-direction): 0.0 Tesla\n",
      "Magnetic field inside the solenoid (z-direction): nan Tesla\n"
     ]
    }
   ],
   "source": [
    "# Calculate the magnetic field components inside the solenoid\n",
    "Bx, By, Bz = magnetic_field_inside_solenoid(x, y, z, N, d, R, I)\n",
    "\n",
    "# Print the results\n",
    "print(f\"Magnetic field inside the solenoid (x-direction): {Bx} Tesla\")\n",
    "print(f\"Magnetic field inside the solenoid (y-direction): {By} Tesla\")\n",
    "print(f\"Magnetic field inside the solenoid (z-direction): {Bz} Tesla\")"
   ]
  },
  {
   "cell_type": "code",
   "execution_count": 189,
   "metadata": {},
   "outputs": [],
   "source": [
    "# Input parameters\n",
    "N = 40 # Number of turns\n",
    "d = 0.0025 # Gap between turns (in meters)\n",
    "R = 0.1 # Radius of the solenoid (in meters)\n",
    "I = 1.0  # Current through the solenoid (in Amperes)\n",
    "xr=0.14\n",
    "x = np.linspace(-xr,xr,1000) # x-coordinate of the point of interest (inside the solenoid)\n",
    "y = 0.0  # y-coordinate of the point of interest (inside the solenoid)\n",
    "z = 0.01 # z-coordinate of the point of interest (inside the solenoid)"
   ]
  },
  {
   "cell_type": "code",
   "execution_count": 190,
   "metadata": {},
   "outputs": [],
   "source": [
    "bx,by,bz,b=[],[],[],[]"
   ]
  },
  {
   "cell_type": "code",
   "execution_count": 191,
   "metadata": {},
   "outputs": [],
   "source": [
    "for i in range(0,len(x)):\n",
    "    b1,b2,b3= magnetic_field_inside_solenoid(x[i], y, z, N, d, R, I)\n",
    "    #print(b1,b2,b3)\n",
    "    bx.append(b1)\n",
    "    by.append(b2)\n",
    "    bz.append(b3)\n",
    "    b4=(np.sqrt(b1**2+b2**2+b3**2))\n",
    "    #print(b4)\n",
    "    b.append(b4)\n"
   ]
  },
  {
   "cell_type": "code",
   "execution_count": 192,
   "metadata": {},
   "outputs": [
    {
     "data": {
      "text/plain": [
       "<matplotlib.legend.Legend at 0x24a816f8f10>"
      ]
     },
     "execution_count": 192,
     "metadata": {},
     "output_type": "execute_result"
    },
    {
     "data": {
      "image/png": "[encoded data removed]",
      "text/plain": [
       "<Figure size 640x480 with 1 Axes>"
      ]
     },
     "metadata": {},
     "output_type": "display_data"
    }
   ],
   "source": [
    "plt.plot(x,b,label=\"b\")\n",
    "#plt.plot(x,bz,label=\"bz\")\n",
    "#plt.plot(x,bx,label=\"bx\")\n",
    "plt.legend()\n",
    "#plt.yticks(np.arange(0.00,0.05,0.002))\n",
    "#0.002G is the fluctuation in the "
   ]
  }
 ],
 "metadata": {
  "kernelspec": {
   "display_name": "Python 3",
   "language": "python",
   "name": "python3"
  },
  "language_info": {
   "codemirror_mode": {
    "name": "ipython",
    "version": 3
   },
   "file_extension": ".py",
   "mimetype": "text/x-python",
   "name": "python",
   "nbconvert_exporter": "python",
   "pygments_lexer": "ipython3",
   "version": "3.11.5"
  },
  "orig_nbformat": 4
 },
 "nbformat": 4,
 "nbformat_minor": 2
}
